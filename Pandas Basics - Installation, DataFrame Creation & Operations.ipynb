{
 "cells": [
  {
   "cell_type": "markdown",
   "id": "f0cc229d-cd80-44e2-a065-942bdce73c89",
   "metadata": {},
   "source": [
    "# Notebook 01: Pandas : \n",
    "- Pandas is an open-source Python library for data manipulation and analysis, providing easy-to-use data structures like DataFrame and Series for handling structured data efficiently. "
   ]
  },
  {
   "cell_type": "markdown",
   "id": "af9a3d41-af25-4bc8-82ca-bd590fd80034",
   "metadata": {},
   "source": [
    "## Installation"
   ]
  },
  {
   "cell_type": "code",
   "execution_count": 1,
   "id": "c46db9e6-b931-4a33-9da1-ebbc74eb4181",
   "metadata": {},
   "outputs": [
    {
     "name": "stdout",
     "output_type": "stream",
     "text": [
      "Defaulting to user installation because normal site-packages is not writeable\n",
      "Requirement already satisfied: pandas in c:\\users\\irfanullah's laptop\\appdata\\roaming\\python\\python313\\site-packages (2.2.3)\n",
      "Requirement already satisfied: numpy>=1.26.0 in c:\\users\\irfanullah's laptop\\appdata\\roaming\\python\\python313\\site-packages (from pandas) (2.2.3)\n",
      "Requirement already satisfied: python-dateutil>=2.8.2 in c:\\users\\irfanullah's laptop\\appdata\\roaming\\python\\python313\\site-packages (from pandas) (2.9.0.post0)\n",
      "Requirement already satisfied: pytz>=2020.1 in c:\\users\\irfanullah's laptop\\appdata\\roaming\\python\\python313\\site-packages (from pandas) (2025.1)\n",
      "Requirement already satisfied: tzdata>=2022.7 in c:\\users\\irfanullah's laptop\\appdata\\roaming\\python\\python313\\site-packages (from pandas) (2025.1)\n",
      "Requirement already satisfied: six>=1.5 in c:\\users\\irfanullah's laptop\\appdata\\roaming\\python\\python313\\site-packages (from python-dateutil>=2.8.2->pandas) (1.17.0)\n",
      "Note: you may need to restart the kernel to use updated packages.\n"
     ]
    }
   ],
   "source": [
    "pip install pandas"
   ]
  },
  {
   "cell_type": "markdown",
   "id": "2e048acd-d989-419d-bc3d-907ec6315642",
   "metadata": {},
   "source": [
    "## Importing pandas\n",
    "- Generally we makes an alias of pandas as pd to use it late."
   ]
  },
  {
   "cell_type": "code",
   "execution_count": 2,
   "id": "2dfa681f-ce09-41e5-a503-e3e0793f4fa1",
   "metadata": {},
   "outputs": [],
   "source": [
    "import pandas as pd \n",
    "import numpy as np"
   ]
  },
  {
   "cell_type": "markdown",
   "id": "42ac86f7-0b12-44bf-bccd-058ffb1c5191",
   "metadata": {},
   "source": [
    "## Data Structure in Pandas\n",
    "- There are mainly two Data Structure in pandas.\n",
    "- Series : A one dimensional labeled array.\n",
    "- DataFrame : A two dimensional table with labeled rows and columns."
   ]
  },
  {
   "cell_type": "code",
   "execution_count": 3,
   "id": "9b22985d-2a65-4648-8a5c-99076b8bf6a5",
   "metadata": {},
   "outputs": [
    {
     "data": {
      "text/plain": [
       "0    1\n",
       "1    2\n",
       "2    3\n",
       "3    4\n",
       "4    5\n",
       "5    6\n",
       "dtype: int64"
      ]
     },
     "execution_count": 3,
     "metadata": {},
     "output_type": "execute_result"
    }
   ],
   "source": [
    "# Creating Series with 1D list\n",
    "arr = [1,2,3,4,5,6] \n",
    "sr = pd.Series(arr)\n",
    "sr"
   ]
  },
  {
   "cell_type": "code",
   "execution_count": 4,
   "id": "ba7f2f58-0a25-4d2a-9f8e-9304d327eef5",
   "metadata": {},
   "outputs": [
    {
     "data": {
      "text/plain": [
       "0    [1, 2, 3]\n",
       "1    [4, 5, 6]\n",
       "dtype: object"
      ]
     },
     "execution_count": 4,
     "metadata": {},
     "output_type": "execute_result"
    }
   ],
   "source": [
    "# Creating Series with 2D list\n",
    "arr = [[1,2,3],[4,5,6]] \n",
    "sr = pd.Series(arr)\n",
    "sr"
   ]
  },
  {
   "cell_type": "markdown",
   "id": "40becf65-9c68-451b-989c-b0f54adf52ad",
   "metadata": {},
   "source": [
    "### Creating DataFrame By Multiple ways"
   ]
  },
  {
   "cell_type": "code",
   "execution_count": 5,
   "id": "28cba028-c3a3-4961-9806-0673d4026c49",
   "metadata": {},
   "outputs": [
    {
     "data": {
      "text/html": [
       "<div>\n",
       "<style scoped>\n",
       "    .dataframe tbody tr th:only-of-type {\n",
       "        vertical-align: middle;\n",
       "    }\n",
       "\n",
       "    .dataframe tbody tr th {\n",
       "        vertical-align: top;\n",
       "    }\n",
       "\n",
       "    .dataframe thead th {\n",
       "        text-align: right;\n",
       "    }\n",
       "</style>\n",
       "<table border=\"1\" class=\"dataframe\">\n",
       "  <thead>\n",
       "    <tr style=\"text-align: right;\">\n",
       "      <th></th>\n",
       "      <th>ID</th>\n",
       "      <th>Names</th>\n",
       "      <th>Age</th>\n",
       "    </tr>\n",
       "  </thead>\n",
       "  <tbody>\n",
       "    <tr>\n",
       "      <th>0</th>\n",
       "      <td>1</td>\n",
       "      <td>Ali</td>\n",
       "      <td>23</td>\n",
       "    </tr>\n",
       "    <tr>\n",
       "      <th>1</th>\n",
       "      <td>2</td>\n",
       "      <td>Hamza</td>\n",
       "      <td>21</td>\n",
       "    </tr>\n",
       "    <tr>\n",
       "      <th>2</th>\n",
       "      <td>3</td>\n",
       "      <td>Ubaid</td>\n",
       "      <td>20</td>\n",
       "    </tr>\n",
       "  </tbody>\n",
       "</table>\n",
       "</div>"
      ],
      "text/plain": [
       "   ID  Names  Age\n",
       "0   1    Ali   23\n",
       "1   2  Hamza   21\n",
       "2   3  Ubaid   20"
      ]
     },
     "execution_count": 5,
     "metadata": {},
     "output_type": "execute_result"
    }
   ],
   "source": [
    "# By list of list\n",
    "li = [[1,'Ali',23],[2,'Hamza',21],[3,'Ubaid',20]]\n",
    "df = pd.DataFrame(li,columns=['ID','Names','Age'])\n",
    "df"
   ]
  },
  {
   "cell_type": "code",
   "execution_count": 6,
   "id": "00118fe6-4274-49f4-9738-0744a263b39c",
   "metadata": {},
   "outputs": [
    {
     "data": {
      "text/html": [
       "<div>\n",
       "<style scoped>\n",
       "    .dataframe tbody tr th:only-of-type {\n",
       "        vertical-align: middle;\n",
       "    }\n",
       "\n",
       "    .dataframe tbody tr th {\n",
       "        vertical-align: top;\n",
       "    }\n",
       "\n",
       "    .dataframe thead th {\n",
       "        text-align: right;\n",
       "    }\n",
       "</style>\n",
       "<table border=\"1\" class=\"dataframe\">\n",
       "  <thead>\n",
       "    <tr style=\"text-align: right;\">\n",
       "      <th></th>\n",
       "      <th>ID</th>\n",
       "      <th>Names</th>\n",
       "      <th>Age</th>\n",
       "    </tr>\n",
       "  </thead>\n",
       "  <tbody>\n",
       "    <tr>\n",
       "      <th>0</th>\n",
       "      <td>1</td>\n",
       "      <td>Ali</td>\n",
       "      <td>23</td>\n",
       "    </tr>\n",
       "    <tr>\n",
       "      <th>1</th>\n",
       "      <td>2</td>\n",
       "      <td>Hamza</td>\n",
       "      <td>21</td>\n",
       "    </tr>\n",
       "    <tr>\n",
       "      <th>2</th>\n",
       "      <td>3</td>\n",
       "      <td>Ubaid</td>\n",
       "      <td>20</td>\n",
       "    </tr>\n",
       "  </tbody>\n",
       "</table>\n",
       "</div>"
      ],
      "text/plain": [
       "   ID  Names  Age\n",
       "0   1    Ali   23\n",
       "1   2  Hamza   21\n",
       "2   3  Ubaid   20"
      ]
     },
     "execution_count": 6,
     "metadata": {},
     "output_type": "execute_result"
    }
   ],
   "source": [
    "# By Dictionary of list\n",
    "dict = {\n",
    "    'ID' : [1,2,3],\n",
    "    'Names' : ['Ali','Hamza','Ubaid'],\n",
    "    'Age' : [23,21,20]\n",
    "}\n",
    "df = pd.DataFrame(dict)\n",
    "df"
   ]
  },
  {
   "cell_type": "code",
   "execution_count": 7,
   "id": "6ebb2e97-a914-421b-9941-ab3d360b8892",
   "metadata": {},
   "outputs": [
    {
     "data": {
      "text/html": [
       "<div>\n",
       "<style scoped>\n",
       "    .dataframe tbody tr th:only-of-type {\n",
       "        vertical-align: middle;\n",
       "    }\n",
       "\n",
       "    .dataframe tbody tr th {\n",
       "        vertical-align: top;\n",
       "    }\n",
       "\n",
       "    .dataframe thead th {\n",
       "        text-align: right;\n",
       "    }\n",
       "</style>\n",
       "<table border=\"1\" class=\"dataframe\">\n",
       "  <thead>\n",
       "    <tr style=\"text-align: right;\">\n",
       "      <th></th>\n",
       "      <th>ID</th>\n",
       "      <th>Names</th>\n",
       "      <th>Age</th>\n",
       "    </tr>\n",
       "  </thead>\n",
       "  <tbody>\n",
       "    <tr>\n",
       "      <th>0</th>\n",
       "      <td>1</td>\n",
       "      <td>Ali</td>\n",
       "      <td>23</td>\n",
       "    </tr>\n",
       "    <tr>\n",
       "      <th>1</th>\n",
       "      <td>2</td>\n",
       "      <td>Hamza</td>\n",
       "      <td>21</td>\n",
       "    </tr>\n",
       "    <tr>\n",
       "      <th>2</th>\n",
       "      <td>3</td>\n",
       "      <td>Ubaid</td>\n",
       "      <td>20</td>\n",
       "    </tr>\n",
       "  </tbody>\n",
       "</table>\n",
       "</div>"
      ],
      "text/plain": [
       "  ID  Names Age\n",
       "0  1    Ali  23\n",
       "1  2  Hamza  21\n",
       "2  3  Ubaid  20"
      ]
     },
     "execution_count": 7,
     "metadata": {},
     "output_type": "execute_result"
    }
   ],
   "source": [
    "#By numpy array\n",
    "arr = np.array([[1,'Ali',23],[2,'Hamza',21],[3,'Ubaid',20]])\n",
    "df = pd.DataFrame(arr,columns = ['ID','Names','Age'])\n",
    "df"
   ]
  },
  {
   "cell_type": "code",
   "execution_count": 8,
   "id": "bfffbf44-b4d2-45b2-89ad-569c855cc307",
   "metadata": {},
   "outputs": [
    {
     "data": {
      "text/html": [
       "<div>\n",
       "<style scoped>\n",
       "    .dataframe tbody tr th:only-of-type {\n",
       "        vertical-align: middle;\n",
       "    }\n",
       "\n",
       "    .dataframe tbody tr th {\n",
       "        vertical-align: top;\n",
       "    }\n",
       "\n",
       "    .dataframe thead th {\n",
       "        text-align: right;\n",
       "    }\n",
       "</style>\n",
       "<table border=\"1\" class=\"dataframe\">\n",
       "  <thead>\n",
       "    <tr style=\"text-align: right;\">\n",
       "      <th></th>\n",
       "      <th>Student_ID</th>\n",
       "      <th>Name</th>\n",
       "      <th>Gender</th>\n",
       "      <th>Age</th>\n",
       "      <th>Department</th>\n",
       "      <th>GPA</th>\n",
       "      <th>Enrollment_Year</th>\n",
       "      <th>Contact</th>\n",
       "    </tr>\n",
       "  </thead>\n",
       "  <tbody>\n",
       "    <tr>\n",
       "      <th>0</th>\n",
       "      <td>S1001</td>\n",
       "      <td>Ali</td>\n",
       "      <td>Male</td>\n",
       "      <td>18.0</td>\n",
       "      <td>Computer Science</td>\n",
       "      <td>3.0</td>\n",
       "      <td>2020</td>\n",
       "      <td>9.876543e+09</td>\n",
       "    </tr>\n",
       "    <tr>\n",
       "      <th>1</th>\n",
       "      <td>S1002</td>\n",
       "      <td>Umar</td>\n",
       "      <td>Male</td>\n",
       "      <td>19.0</td>\n",
       "      <td>Business</td>\n",
       "      <td>3.5</td>\n",
       "      <td>2021</td>\n",
       "      <td>9.876543e+09</td>\n",
       "    </tr>\n",
       "    <tr>\n",
       "      <th>2</th>\n",
       "      <td>S1003</td>\n",
       "      <td>Faraz</td>\n",
       "      <td>Male</td>\n",
       "      <td>20.0</td>\n",
       "      <td>Mathematics</td>\n",
       "      <td>NaN</td>\n",
       "      <td>2022</td>\n",
       "      <td>9.876543e+09</td>\n",
       "    </tr>\n",
       "    <tr>\n",
       "      <th>3</th>\n",
       "      <td>S1004</td>\n",
       "      <td>Danish</td>\n",
       "      <td>Male</td>\n",
       "      <td>21.0</td>\n",
       "      <td>Physics</td>\n",
       "      <td>2.5</td>\n",
       "      <td>2023</td>\n",
       "      <td>NaN</td>\n",
       "    </tr>\n",
       "    <tr>\n",
       "      <th>4</th>\n",
       "      <td>S1005</td>\n",
       "      <td>Laiba</td>\n",
       "      <td>Female</td>\n",
       "      <td>22.0</td>\n",
       "      <td>Engineering</td>\n",
       "      <td>3.0</td>\n",
       "      <td>2024</td>\n",
       "      <td>9.876543e+09</td>\n",
       "    </tr>\n",
       "    <tr>\n",
       "      <th>5</th>\n",
       "      <td>S1006</td>\n",
       "      <td>Noor</td>\n",
       "      <td>Female</td>\n",
       "      <td>18.0</td>\n",
       "      <td>Computer Science</td>\n",
       "      <td>3.5</td>\n",
       "      <td>2020</td>\n",
       "      <td>9.876543e+09</td>\n",
       "    </tr>\n",
       "    <tr>\n",
       "      <th>6</th>\n",
       "      <td>S1007</td>\n",
       "      <td>Neha</td>\n",
       "      <td>Female</td>\n",
       "      <td>19.0</td>\n",
       "      <td>Business</td>\n",
       "      <td>4.0</td>\n",
       "      <td>2021</td>\n",
       "      <td>9.876543e+09</td>\n",
       "    </tr>\n",
       "    <tr>\n",
       "      <th>7</th>\n",
       "      <td>S1008</td>\n",
       "      <td>Aqib</td>\n",
       "      <td>Male</td>\n",
       "      <td>NaN</td>\n",
       "      <td>Mathematics</td>\n",
       "      <td>2.5</td>\n",
       "      <td>2022</td>\n",
       "      <td>9.876543e+09</td>\n",
       "    </tr>\n",
       "    <tr>\n",
       "      <th>8</th>\n",
       "      <td>S1009</td>\n",
       "      <td>Taha</td>\n",
       "      <td>Male</td>\n",
       "      <td>21.0</td>\n",
       "      <td>Physics</td>\n",
       "      <td>3.0</td>\n",
       "      <td>2023</td>\n",
       "      <td>9.876543e+09</td>\n",
       "    </tr>\n",
       "    <tr>\n",
       "      <th>9</th>\n",
       "      <td>S1010</td>\n",
       "      <td>Sheri</td>\n",
       "      <td>Male</td>\n",
       "      <td>22.0</td>\n",
       "      <td>Engineering</td>\n",
       "      <td>3.5</td>\n",
       "      <td>2024</td>\n",
       "      <td>9.876543e+09</td>\n",
       "    </tr>\n",
       "    <tr>\n",
       "      <th>10</th>\n",
       "      <td>S1011</td>\n",
       "      <td>Irfanullah</td>\n",
       "      <td>Male</td>\n",
       "      <td>18.0</td>\n",
       "      <td>Computer Science</td>\n",
       "      <td>4.0</td>\n",
       "      <td>2020</td>\n",
       "      <td>9.876543e+09</td>\n",
       "    </tr>\n",
       "    <tr>\n",
       "      <th>11</th>\n",
       "      <td>S1012</td>\n",
       "      <td>Mehak</td>\n",
       "      <td>Female</td>\n",
       "      <td>19.0</td>\n",
       "      <td>Business</td>\n",
       "      <td>2.5</td>\n",
       "      <td>2021</td>\n",
       "      <td>9.876543e+09</td>\n",
       "    </tr>\n",
       "    <tr>\n",
       "      <th>12</th>\n",
       "      <td>S1013</td>\n",
       "      <td>Zunaira</td>\n",
       "      <td>Male</td>\n",
       "      <td>20.0</td>\n",
       "      <td>Mathematics</td>\n",
       "      <td>3.0</td>\n",
       "      <td>2022</td>\n",
       "      <td>9.876543e+09</td>\n",
       "    </tr>\n",
       "    <tr>\n",
       "      <th>13</th>\n",
       "      <td>S1014</td>\n",
       "      <td>Awais</td>\n",
       "      <td>Male</td>\n",
       "      <td>21.0</td>\n",
       "      <td>Physics</td>\n",
       "      <td>NaN</td>\n",
       "      <td>2023</td>\n",
       "      <td>9.876543e+09</td>\n",
       "    </tr>\n",
       "    <tr>\n",
       "      <th>14</th>\n",
       "      <td>S1015</td>\n",
       "      <td>Shanza</td>\n",
       "      <td>Female</td>\n",
       "      <td>NaN</td>\n",
       "      <td>Engineering</td>\n",
       "      <td>3.5</td>\n",
       "      <td>2024</td>\n",
       "      <td>9.876543e+09</td>\n",
       "    </tr>\n",
       "    <tr>\n",
       "      <th>15</th>\n",
       "      <td>S1016</td>\n",
       "      <td>Mahnoor</td>\n",
       "      <td>Female</td>\n",
       "      <td>18.0</td>\n",
       "      <td>Computer Science</td>\n",
       "      <td>2.5</td>\n",
       "      <td>2020</td>\n",
       "      <td>9.876543e+09</td>\n",
       "    </tr>\n",
       "    <tr>\n",
       "      <th>16</th>\n",
       "      <td>S1017</td>\n",
       "      <td>Kainat</td>\n",
       "      <td>Female</td>\n",
       "      <td>19.0</td>\n",
       "      <td>Business</td>\n",
       "      <td>NaN</td>\n",
       "      <td>2021</td>\n",
       "      <td>9.876543e+09</td>\n",
       "    </tr>\n",
       "    <tr>\n",
       "      <th>17</th>\n",
       "      <td>S1018</td>\n",
       "      <td>Hafsa</td>\n",
       "      <td>Female</td>\n",
       "      <td>NaN</td>\n",
       "      <td>Mathematics</td>\n",
       "      <td>3.5</td>\n",
       "      <td>2022</td>\n",
       "      <td>9.876543e+09</td>\n",
       "    </tr>\n",
       "    <tr>\n",
       "      <th>18</th>\n",
       "      <td>S1019</td>\n",
       "      <td>Aliza</td>\n",
       "      <td>Female</td>\n",
       "      <td>NaN</td>\n",
       "      <td>Physics</td>\n",
       "      <td>4.0</td>\n",
       "      <td>2023</td>\n",
       "      <td>NaN</td>\n",
       "    </tr>\n",
       "    <tr>\n",
       "      <th>19</th>\n",
       "      <td>S1020</td>\n",
       "      <td>Umair</td>\n",
       "      <td>Male</td>\n",
       "      <td>22.0</td>\n",
       "      <td>Engineering</td>\n",
       "      <td>2.5</td>\n",
       "      <td>2024</td>\n",
       "      <td>9.876543e+09</td>\n",
       "    </tr>\n",
       "    <tr>\n",
       "      <th>20</th>\n",
       "      <td>S1021</td>\n",
       "      <td>Umama</td>\n",
       "      <td>Female</td>\n",
       "      <td>18.0</td>\n",
       "      <td>Computer Science</td>\n",
       "      <td>3.0</td>\n",
       "      <td>2020</td>\n",
       "      <td>9.876543e+09</td>\n",
       "    </tr>\n",
       "    <tr>\n",
       "      <th>21</th>\n",
       "      <td>S1022</td>\n",
       "      <td>Hamza</td>\n",
       "      <td>Male</td>\n",
       "      <td>19.0</td>\n",
       "      <td>Business</td>\n",
       "      <td>NaN</td>\n",
       "      <td>2021</td>\n",
       "      <td>9.876543e+09</td>\n",
       "    </tr>\n",
       "    <tr>\n",
       "      <th>22</th>\n",
       "      <td>S1023</td>\n",
       "      <td>Saifullah</td>\n",
       "      <td>Male</td>\n",
       "      <td>20.0</td>\n",
       "      <td>Mathematics</td>\n",
       "      <td>4.0</td>\n",
       "      <td>2022</td>\n",
       "      <td>9.876543e+09</td>\n",
       "    </tr>\n",
       "    <tr>\n",
       "      <th>23</th>\n",
       "      <td>S1024</td>\n",
       "      <td>Mehwish</td>\n",
       "      <td>Female</td>\n",
       "      <td>21.0</td>\n",
       "      <td>Physics</td>\n",
       "      <td>2.5</td>\n",
       "      <td>2023</td>\n",
       "      <td>9.876543e+09</td>\n",
       "    </tr>\n",
       "    <tr>\n",
       "      <th>24</th>\n",
       "      <td>S1025</td>\n",
       "      <td>Shayan</td>\n",
       "      <td>Male</td>\n",
       "      <td>22.0</td>\n",
       "      <td>Engineering</td>\n",
       "      <td>3.0</td>\n",
       "      <td>2024</td>\n",
       "      <td>9.876543e+09</td>\n",
       "    </tr>\n",
       "  </tbody>\n",
       "</table>\n",
       "</div>"
      ],
      "text/plain": [
       "   Student_ID        Name  Gender   Age        Department  GPA  \\\n",
       "0       S1001         Ali    Male  18.0  Computer Science  3.0   \n",
       "1       S1002        Umar    Male  19.0          Business  3.5   \n",
       "2       S1003       Faraz    Male  20.0       Mathematics  NaN   \n",
       "3       S1004      Danish    Male  21.0           Physics  2.5   \n",
       "4       S1005       Laiba  Female  22.0       Engineering  3.0   \n",
       "5       S1006        Noor  Female  18.0  Computer Science  3.5   \n",
       "6       S1007        Neha  Female  19.0          Business  4.0   \n",
       "7       S1008        Aqib    Male   NaN       Mathematics  2.5   \n",
       "8       S1009        Taha    Male  21.0           Physics  3.0   \n",
       "9       S1010       Sheri    Male  22.0       Engineering  3.5   \n",
       "10      S1011  Irfanullah    Male  18.0  Computer Science  4.0   \n",
       "11      S1012       Mehak  Female  19.0          Business  2.5   \n",
       "12      S1013     Zunaira    Male  20.0       Mathematics  3.0   \n",
       "13      S1014       Awais    Male  21.0           Physics  NaN   \n",
       "14      S1015      Shanza  Female   NaN       Engineering  3.5   \n",
       "15      S1016     Mahnoor  Female  18.0  Computer Science  2.5   \n",
       "16      S1017      Kainat  Female  19.0          Business  NaN   \n",
       "17      S1018       Hafsa  Female   NaN       Mathematics  3.5   \n",
       "18      S1019       Aliza  Female   NaN           Physics  4.0   \n",
       "19      S1020       Umair    Male  22.0       Engineering  2.5   \n",
       "20      S1021       Umama  Female  18.0  Computer Science  3.0   \n",
       "21      S1022       Hamza    Male  19.0          Business  NaN   \n",
       "22      S1023   Saifullah    Male  20.0       Mathematics  4.0   \n",
       "23      S1024     Mehwish  Female  21.0           Physics  2.5   \n",
       "24      S1025      Shayan    Male  22.0       Engineering  3.0   \n",
       "\n",
       "    Enrollment_Year       Contact  \n",
       "0              2020  9.876543e+09  \n",
       "1              2021  9.876543e+09  \n",
       "2              2022  9.876543e+09  \n",
       "3              2023           NaN  \n",
       "4              2024  9.876543e+09  \n",
       "5              2020  9.876543e+09  \n",
       "6              2021  9.876543e+09  \n",
       "7              2022  9.876543e+09  \n",
       "8              2023  9.876543e+09  \n",
       "9              2024  9.876543e+09  \n",
       "10             2020  9.876543e+09  \n",
       "11             2021  9.876543e+09  \n",
       "12             2022  9.876543e+09  \n",
       "13             2023  9.876543e+09  \n",
       "14             2024  9.876543e+09  \n",
       "15             2020  9.876543e+09  \n",
       "16             2021  9.876543e+09  \n",
       "17             2022  9.876543e+09  \n",
       "18             2023           NaN  \n",
       "19             2024  9.876543e+09  \n",
       "20             2020  9.876543e+09  \n",
       "21             2021  9.876543e+09  \n",
       "22             2022  9.876543e+09  \n",
       "23             2023  9.876543e+09  \n",
       "24             2024  9.876543e+09  "
      ]
     },
     "execution_count": 8,
     "metadata": {},
     "output_type": "execute_result"
    }
   ],
   "source": [
    "#By Reading CSV file\n",
    "students = pd.read_csv('./dataset/students_data.csv')\n",
    "students"
   ]
  },
  {
   "cell_type": "markdown",
   "id": "c08ee8ef-1a39-4a8c-a71f-2ceb428e7759",
   "metadata": {},
   "source": [
    "## Exploring DataFrames: Summary, Structure & Overview"
   ]
  },
  {
   "cell_type": "markdown",
   "id": "acb95603-55e9-4313-8b35-9ae08a8d7ac9",
   "metadata": {},
   "source": [
    "- .head(n) : Display n rows from starting of DataFrame."
   ]
  },
  {
   "cell_type": "code",
   "execution_count": 9,
   "id": "297b3645-47c0-4e60-b8fa-82f2beb9a78d",
   "metadata": {},
   "outputs": [
    {
     "data": {
      "text/html": [
       "<div>\n",
       "<style scoped>\n",
       "    .dataframe tbody tr th:only-of-type {\n",
       "        vertical-align: middle;\n",
       "    }\n",
       "\n",
       "    .dataframe tbody tr th {\n",
       "        vertical-align: top;\n",
       "    }\n",
       "\n",
       "    .dataframe thead th {\n",
       "        text-align: right;\n",
       "    }\n",
       "</style>\n",
       "<table border=\"1\" class=\"dataframe\">\n",
       "  <thead>\n",
       "    <tr style=\"text-align: right;\">\n",
       "      <th></th>\n",
       "      <th>Student_ID</th>\n",
       "      <th>Name</th>\n",
       "      <th>Gender</th>\n",
       "      <th>Age</th>\n",
       "      <th>Department</th>\n",
       "      <th>GPA</th>\n",
       "      <th>Enrollment_Year</th>\n",
       "      <th>Contact</th>\n",
       "    </tr>\n",
       "  </thead>\n",
       "  <tbody>\n",
       "    <tr>\n",
       "      <th>0</th>\n",
       "      <td>S1001</td>\n",
       "      <td>Ali</td>\n",
       "      <td>Male</td>\n",
       "      <td>18.0</td>\n",
       "      <td>Computer Science</td>\n",
       "      <td>3.0</td>\n",
       "      <td>2020</td>\n",
       "      <td>9.876543e+09</td>\n",
       "    </tr>\n",
       "    <tr>\n",
       "      <th>1</th>\n",
       "      <td>S1002</td>\n",
       "      <td>Umar</td>\n",
       "      <td>Male</td>\n",
       "      <td>19.0</td>\n",
       "      <td>Business</td>\n",
       "      <td>3.5</td>\n",
       "      <td>2021</td>\n",
       "      <td>9.876543e+09</td>\n",
       "    </tr>\n",
       "    <tr>\n",
       "      <th>2</th>\n",
       "      <td>S1003</td>\n",
       "      <td>Faraz</td>\n",
       "      <td>Male</td>\n",
       "      <td>20.0</td>\n",
       "      <td>Mathematics</td>\n",
       "      <td>NaN</td>\n",
       "      <td>2022</td>\n",
       "      <td>9.876543e+09</td>\n",
       "    </tr>\n",
       "    <tr>\n",
       "      <th>3</th>\n",
       "      <td>S1004</td>\n",
       "      <td>Danish</td>\n",
       "      <td>Male</td>\n",
       "      <td>21.0</td>\n",
       "      <td>Physics</td>\n",
       "      <td>2.5</td>\n",
       "      <td>2023</td>\n",
       "      <td>NaN</td>\n",
       "    </tr>\n",
       "    <tr>\n",
       "      <th>4</th>\n",
       "      <td>S1005</td>\n",
       "      <td>Laiba</td>\n",
       "      <td>Female</td>\n",
       "      <td>22.0</td>\n",
       "      <td>Engineering</td>\n",
       "      <td>3.0</td>\n",
       "      <td>2024</td>\n",
       "      <td>9.876543e+09</td>\n",
       "    </tr>\n",
       "  </tbody>\n",
       "</table>\n",
       "</div>"
      ],
      "text/plain": [
       "  Student_ID    Name  Gender   Age        Department  GPA  Enrollment_Year  \\\n",
       "0      S1001     Ali    Male  18.0  Computer Science  3.0             2020   \n",
       "1      S1002    Umar    Male  19.0          Business  3.5             2021   \n",
       "2      S1003   Faraz    Male  20.0       Mathematics  NaN             2022   \n",
       "3      S1004  Danish    Male  21.0           Physics  2.5             2023   \n",
       "4      S1005   Laiba  Female  22.0       Engineering  3.0             2024   \n",
       "\n",
       "        Contact  \n",
       "0  9.876543e+09  \n",
       "1  9.876543e+09  \n",
       "2  9.876543e+09  \n",
       "3           NaN  \n",
       "4  9.876543e+09  "
      ]
     },
     "execution_count": 9,
     "metadata": {},
     "output_type": "execute_result"
    }
   ],
   "source": [
    "students.head(5)"
   ]
  },
  {
   "cell_type": "markdown",
   "id": "4ccf5ba7-1005-430b-ac4b-53c9b9390566",
   "metadata": {},
   "source": [
    "- .tail(n) : Display n rows from ending of DataFrame."
   ]
  },
  {
   "cell_type": "code",
   "execution_count": 10,
   "id": "60799c35-6416-410e-940e-86dda8cbd4de",
   "metadata": {},
   "outputs": [
    {
     "data": {
      "text/html": [
       "<div>\n",
       "<style scoped>\n",
       "    .dataframe tbody tr th:only-of-type {\n",
       "        vertical-align: middle;\n",
       "    }\n",
       "\n",
       "    .dataframe tbody tr th {\n",
       "        vertical-align: top;\n",
       "    }\n",
       "\n",
       "    .dataframe thead th {\n",
       "        text-align: right;\n",
       "    }\n",
       "</style>\n",
       "<table border=\"1\" class=\"dataframe\">\n",
       "  <thead>\n",
       "    <tr style=\"text-align: right;\">\n",
       "      <th></th>\n",
       "      <th>Student_ID</th>\n",
       "      <th>Name</th>\n",
       "      <th>Gender</th>\n",
       "      <th>Age</th>\n",
       "      <th>Department</th>\n",
       "      <th>GPA</th>\n",
       "      <th>Enrollment_Year</th>\n",
       "      <th>Contact</th>\n",
       "    </tr>\n",
       "  </thead>\n",
       "  <tbody>\n",
       "    <tr>\n",
       "      <th>22</th>\n",
       "      <td>S1023</td>\n",
       "      <td>Saifullah</td>\n",
       "      <td>Male</td>\n",
       "      <td>20.0</td>\n",
       "      <td>Mathematics</td>\n",
       "      <td>4.0</td>\n",
       "      <td>2022</td>\n",
       "      <td>9.876543e+09</td>\n",
       "    </tr>\n",
       "    <tr>\n",
       "      <th>23</th>\n",
       "      <td>S1024</td>\n",
       "      <td>Mehwish</td>\n",
       "      <td>Female</td>\n",
       "      <td>21.0</td>\n",
       "      <td>Physics</td>\n",
       "      <td>2.5</td>\n",
       "      <td>2023</td>\n",
       "      <td>9.876543e+09</td>\n",
       "    </tr>\n",
       "    <tr>\n",
       "      <th>24</th>\n",
       "      <td>S1025</td>\n",
       "      <td>Shayan</td>\n",
       "      <td>Male</td>\n",
       "      <td>22.0</td>\n",
       "      <td>Engineering</td>\n",
       "      <td>3.0</td>\n",
       "      <td>2024</td>\n",
       "      <td>9.876543e+09</td>\n",
       "    </tr>\n",
       "  </tbody>\n",
       "</table>\n",
       "</div>"
      ],
      "text/plain": [
       "   Student_ID       Name  Gender   Age   Department  GPA  Enrollment_Year  \\\n",
       "22      S1023  Saifullah    Male  20.0  Mathematics  4.0             2022   \n",
       "23      S1024    Mehwish  Female  21.0      Physics  2.5             2023   \n",
       "24      S1025     Shayan    Male  22.0  Engineering  3.0             2024   \n",
       "\n",
       "         Contact  \n",
       "22  9.876543e+09  \n",
       "23  9.876543e+09  \n",
       "24  9.876543e+09  "
      ]
     },
     "execution_count": 10,
     "metadata": {},
     "output_type": "execute_result"
    }
   ],
   "source": [
    "students.tail(3)"
   ]
  },
  {
   "cell_type": "markdown",
   "id": "1dfd6795-5ad0-47f6-be7c-086fff4fde3e",
   "metadata": {},
   "source": [
    "- shape : returns dimension of DataFrame as (rows,columns)."
   ]
  },
  {
   "cell_type": "code",
   "execution_count": 11,
   "id": "d5afb0c3-937d-41c1-90df-7968da3bdb44",
   "metadata": {},
   "outputs": [
    {
     "data": {
      "text/plain": [
       "(25, 8)"
      ]
     },
     "execution_count": 11,
     "metadata": {},
     "output_type": "execute_result"
    }
   ],
   "source": [
    "students.shape"
   ]
  },
  {
   "cell_type": "markdown",
   "id": "ab02bc42-cc4e-4140-a503-fab1ca9d22d4",
   "metadata": {},
   "source": [
    "- size :  returns total elements in DataFrame."
   ]
  },
  {
   "cell_type": "code",
   "execution_count": 12,
   "id": "8f4e12c8-bc36-4b53-a673-12ea0271eb35",
   "metadata": {},
   "outputs": [
    {
     "data": {
      "text/plain": [
       "200"
      ]
     },
     "execution_count": 12,
     "metadata": {},
     "output_type": "execute_result"
    }
   ],
   "source": [
    "students.size"
   ]
  },
  {
   "cell_type": "markdown",
   "id": "414585ff-ffd5-4afd-886f-8d8554c357bd",
   "metadata": {},
   "source": [
    "- info() : provides a concise summary of a DataFrame, including the column names,number of non-null values, data types, and memory usage."
   ]
  },
  {
   "cell_type": "code",
   "execution_count": 13,
   "id": "ae5554a1-c5ae-4489-b7a3-f4e310d3baf8",
   "metadata": {},
   "outputs": [
    {
     "name": "stdout",
     "output_type": "stream",
     "text": [
      "<class 'pandas.core.frame.DataFrame'>\n",
      "RangeIndex: 25 entries, 0 to 24\n",
      "Data columns (total 8 columns):\n",
      " #   Column           Non-Null Count  Dtype  \n",
      "---  ------           --------------  -----  \n",
      " 0   Student_ID       25 non-null     object \n",
      " 1   Name             25 non-null     object \n",
      " 2   Gender           25 non-null     object \n",
      " 3   Age              21 non-null     float64\n",
      " 4   Department       25 non-null     object \n",
      " 5   GPA              21 non-null     float64\n",
      " 6   Enrollment_Year  25 non-null     int64  \n",
      " 7   Contact          23 non-null     float64\n",
      "dtypes: float64(3), int64(1), object(4)\n",
      "memory usage: 1.7+ KB\n"
     ]
    }
   ],
   "source": [
    "students.info()"
   ]
  },
  {
   "cell_type": "markdown",
   "id": "2afeefe3-40f4-473e-9137-834070fd87fe",
   "metadata": {},
   "source": [
    "- index : returns the row labels (index) of the DataFrame."
   ]
  },
  {
   "cell_type": "code",
   "execution_count": 14,
   "id": "94319398-42a6-477d-b5ad-6eb2b671003e",
   "metadata": {},
   "outputs": [
    {
     "data": {
      "text/plain": [
       "RangeIndex(start=0, stop=25, step=1)"
      ]
     },
     "execution_count": 14,
     "metadata": {},
     "output_type": "execute_result"
    }
   ],
   "source": [
    "students.index"
   ]
  },
  {
   "cell_type": "markdown",
   "id": "533568cd-9d9c-4258-91f4-9120fe7993c3",
   "metadata": {},
   "source": [
    "- columns : returns column names of DataFrame"
   ]
  },
  {
   "cell_type": "code",
   "execution_count": 15,
   "id": "52d09278-92c6-4a79-9301-4c1413151d22",
   "metadata": {},
   "outputs": [
    {
     "data": {
      "text/plain": [
       "Index(['Student_ID', 'Name', 'Gender', 'Age', 'Department', 'GPA',\n",
       "       'Enrollment_Year', 'Contact'],\n",
       "      dtype='object')"
      ]
     },
     "execution_count": 15,
     "metadata": {},
     "output_type": "execute_result"
    }
   ],
   "source": [
    "students.columns"
   ]
  },
  {
   "cell_type": "markdown",
   "id": "35bf3d9f-c086-49e3-b921-a0debcb72fa0",
   "metadata": {},
   "source": [
    "- describe() : provides summary statistics of numerical columns, including mean,min,max and count."
   ]
  },
  {
   "cell_type": "code",
   "execution_count": 16,
   "id": "e5f86a3b-07b7-453a-82fd-a1d08f488ecc",
   "metadata": {},
   "outputs": [
    {
     "data": {
      "text/html": [
       "<div>\n",
       "<style scoped>\n",
       "    .dataframe tbody tr th:only-of-type {\n",
       "        vertical-align: middle;\n",
       "    }\n",
       "\n",
       "    .dataframe tbody tr th {\n",
       "        vertical-align: top;\n",
       "    }\n",
       "\n",
       "    .dataframe thead th {\n",
       "        text-align: right;\n",
       "    }\n",
       "</style>\n",
       "<table border=\"1\" class=\"dataframe\">\n",
       "  <thead>\n",
       "    <tr style=\"text-align: right;\">\n",
       "      <th></th>\n",
       "      <th>Age</th>\n",
       "      <th>GPA</th>\n",
       "      <th>Enrollment_Year</th>\n",
       "      <th>Contact</th>\n",
       "    </tr>\n",
       "  </thead>\n",
       "  <tbody>\n",
       "    <tr>\n",
       "      <th>count</th>\n",
       "      <td>21.000000</td>\n",
       "      <td>21.000000</td>\n",
       "      <td>25.000000</td>\n",
       "      <td>2.300000e+01</td>\n",
       "    </tr>\n",
       "    <tr>\n",
       "      <th>mean</th>\n",
       "      <td>19.857143</td>\n",
       "      <td>3.166667</td>\n",
       "      <td>2022.000000</td>\n",
       "      <td>9.876543e+09</td>\n",
       "    </tr>\n",
       "    <tr>\n",
       "      <th>std</th>\n",
       "      <td>1.492840</td>\n",
       "      <td>0.555278</td>\n",
       "      <td>1.443376</td>\n",
       "      <td>7.331776e+00</td>\n",
       "    </tr>\n",
       "    <tr>\n",
       "      <th>min</th>\n",
       "      <td>18.000000</td>\n",
       "      <td>2.500000</td>\n",
       "      <td>2020.000000</td>\n",
       "      <td>9.876543e+09</td>\n",
       "    </tr>\n",
       "    <tr>\n",
       "      <th>25%</th>\n",
       "      <td>19.000000</td>\n",
       "      <td>2.500000</td>\n",
       "      <td>2021.000000</td>\n",
       "      <td>9.876543e+09</td>\n",
       "    </tr>\n",
       "    <tr>\n",
       "      <th>50%</th>\n",
       "      <td>20.000000</td>\n",
       "      <td>3.000000</td>\n",
       "      <td>2022.000000</td>\n",
       "      <td>9.876543e+09</td>\n",
       "    </tr>\n",
       "    <tr>\n",
       "      <th>75%</th>\n",
       "      <td>21.000000</td>\n",
       "      <td>3.500000</td>\n",
       "      <td>2023.000000</td>\n",
       "      <td>9.876543e+09</td>\n",
       "    </tr>\n",
       "    <tr>\n",
       "      <th>max</th>\n",
       "      <td>22.000000</td>\n",
       "      <td>4.000000</td>\n",
       "      <td>2024.000000</td>\n",
       "      <td>9.876543e+09</td>\n",
       "    </tr>\n",
       "  </tbody>\n",
       "</table>\n",
       "</div>"
      ],
      "text/plain": [
       "             Age        GPA  Enrollment_Year       Contact\n",
       "count  21.000000  21.000000        25.000000  2.300000e+01\n",
       "mean   19.857143   3.166667      2022.000000  9.876543e+09\n",
       "std     1.492840   0.555278         1.443376  7.331776e+00\n",
       "min    18.000000   2.500000      2020.000000  9.876543e+09\n",
       "25%    19.000000   2.500000      2021.000000  9.876543e+09\n",
       "50%    20.000000   3.000000      2022.000000  9.876543e+09\n",
       "75%    21.000000   3.500000      2023.000000  9.876543e+09\n",
       "max    22.000000   4.000000      2024.000000  9.876543e+09"
      ]
     },
     "execution_count": 16,
     "metadata": {},
     "output_type": "execute_result"
    }
   ],
   "source": [
    "students.describe()"
   ]
  },
  {
   "cell_type": "markdown",
   "id": "16796eb1-322c-455b-b66b-eeb4a502a489",
   "metadata": {},
   "source": [
    "- .nunique() :  Returns no of unique values in each column."
   ]
  },
  {
   "cell_type": "code",
   "execution_count": 17,
   "id": "55c2d663-4a8a-48c6-a6ee-0341db2ccc36",
   "metadata": {},
   "outputs": [
    {
     "data": {
      "text/plain": [
       "Student_ID         25\n",
       "Name               25\n",
       "Gender              2\n",
       "Age                 5\n",
       "Department          5\n",
       "GPA                 4\n",
       "Enrollment_Year     5\n",
       "Contact            23\n",
       "dtype: int64"
      ]
     },
     "execution_count": 17,
     "metadata": {},
     "output_type": "execute_result"
    }
   ],
   "source": [
    "students.nunique()"
   ]
  },
  {
   "cell_type": "markdown",
   "id": "32cd658e-3fa1-4984-b876-0f0e325ea4ec",
   "metadata": {},
   "source": [
    "- .count() : Returns no of no-null values in each column."
   ]
  },
  {
   "cell_type": "code",
   "execution_count": 18,
   "id": "f116990e-74c4-4ff2-b2bc-fa714251d3aa",
   "metadata": {},
   "outputs": [
    {
     "data": {
      "text/plain": [
       "Student_ID         25\n",
       "Name               25\n",
       "Gender             25\n",
       "Age                21\n",
       "Department         25\n",
       "GPA                21\n",
       "Enrollment_Year    25\n",
       "Contact            23\n",
       "dtype: int64"
      ]
     },
     "execution_count": 18,
     "metadata": {},
     "output_type": "execute_result"
    }
   ],
   "source": [
    "students.count()"
   ]
  },
  {
   "cell_type": "markdown",
   "id": "29a1b0c6-e721-4c86-b782-4d1bee051f6e",
   "metadata": {},
   "source": [
    "## Adding , Modifying and Deleting Data"
   ]
  },
  {
   "cell_type": "markdown",
   "id": "8a0db49f-2e95-484c-b95e-be3dc2fd0eaa",
   "metadata": {},
   "source": [
    "### Adding new columns Graduation_year and Scholarship_Status"
   ]
  },
  {
   "cell_type": "markdown",
   "id": "2d1986c7-d466-40cd-8393-30ebe8a99262",
   "metadata": {},
   "source": [
    "#### Method 01:"
   ]
  },
  {
   "cell_type": "code",
   "execution_count": 19,
   "id": "7c8c2a00-894a-4be8-9226-2ba423e38471",
   "metadata": {},
   "outputs": [
    {
     "data": {
      "text/html": [
       "<div>\n",
       "<style scoped>\n",
       "    .dataframe tbody tr th:only-of-type {\n",
       "        vertical-align: middle;\n",
       "    }\n",
       "\n",
       "    .dataframe tbody tr th {\n",
       "        vertical-align: top;\n",
       "    }\n",
       "\n",
       "    .dataframe thead th {\n",
       "        text-align: right;\n",
       "    }\n",
       "</style>\n",
       "<table border=\"1\" class=\"dataframe\">\n",
       "  <thead>\n",
       "    <tr style=\"text-align: right;\">\n",
       "      <th></th>\n",
       "      <th>Student_ID</th>\n",
       "      <th>Name</th>\n",
       "      <th>Gender</th>\n",
       "      <th>Age</th>\n",
       "      <th>Department</th>\n",
       "      <th>GPA</th>\n",
       "      <th>Enrollment_Year</th>\n",
       "      <th>Contact</th>\n",
       "      <th>Graduation_Year</th>\n",
       "      <th>Scholarship_Status</th>\n",
       "    </tr>\n",
       "  </thead>\n",
       "  <tbody>\n",
       "    <tr>\n",
       "      <th>0</th>\n",
       "      <td>S1001</td>\n",
       "      <td>Ali</td>\n",
       "      <td>Male</td>\n",
       "      <td>18.0</td>\n",
       "      <td>Computer Science</td>\n",
       "      <td>3.0</td>\n",
       "      <td>2020</td>\n",
       "      <td>9.876543e+09</td>\n",
       "      <td>2024</td>\n",
       "      <td>No</td>\n",
       "    </tr>\n",
       "    <tr>\n",
       "      <th>1</th>\n",
       "      <td>S1002</td>\n",
       "      <td>Umar</td>\n",
       "      <td>Male</td>\n",
       "      <td>19.0</td>\n",
       "      <td>Business</td>\n",
       "      <td>3.5</td>\n",
       "      <td>2021</td>\n",
       "      <td>9.876543e+09</td>\n",
       "      <td>2025</td>\n",
       "      <td>No</td>\n",
       "    </tr>\n",
       "    <tr>\n",
       "      <th>2</th>\n",
       "      <td>S1003</td>\n",
       "      <td>Faraz</td>\n",
       "      <td>Male</td>\n",
       "      <td>20.0</td>\n",
       "      <td>Mathematics</td>\n",
       "      <td>NaN</td>\n",
       "      <td>2022</td>\n",
       "      <td>9.876543e+09</td>\n",
       "      <td>2026</td>\n",
       "      <td>No</td>\n",
       "    </tr>\n",
       "  </tbody>\n",
       "</table>\n",
       "</div>"
      ],
      "text/plain": [
       "  Student_ID   Name Gender   Age        Department  GPA  Enrollment_Year  \\\n",
       "0      S1001    Ali   Male  18.0  Computer Science  3.0             2020   \n",
       "1      S1002   Umar   Male  19.0          Business  3.5             2021   \n",
       "2      S1003  Faraz   Male  20.0       Mathematics  NaN             2022   \n",
       "\n",
       "        Contact  Graduation_Year Scholarship_Status  \n",
       "0  9.876543e+09             2024                 No  \n",
       "1  9.876543e+09             2025                 No  \n",
       "2  9.876543e+09             2026                 No  "
      ]
     },
     "execution_count": 19,
     "metadata": {},
     "output_type": "execute_result"
    }
   ],
   "source": [
    "students[\"Graduation_Year\"] = students['Enrollment_Year'] + 4\n",
    "students[\"Scholarship_Status\"] = np.where(students['GPA'] == 4,'Yes','No')\n",
    "students.head(3)"
   ]
  },
  {
   "cell_type": "markdown",
   "id": "c82365ab-091e-4c0f-8cf0-3c3966525014",
   "metadata": {},
   "source": [
    "#### Method 02 : using insert function\n",
    "- df.insert(pos,Name,column) : pos = position to insert, Name of column, column to be inserted."
   ]
  },
  {
   "cell_type": "code",
   "execution_count": 20,
   "id": "569c3f72-ec0f-486c-94a3-5dfb9084d086",
   "metadata": {},
   "outputs": [
    {
     "data": {
      "text/html": [
       "<div>\n",
       "<style scoped>\n",
       "    .dataframe tbody tr th:only-of-type {\n",
       "        vertical-align: middle;\n",
       "    }\n",
       "\n",
       "    .dataframe tbody tr th {\n",
       "        vertical-align: top;\n",
       "    }\n",
       "\n",
       "    .dataframe thead th {\n",
       "        text-align: right;\n",
       "    }\n",
       "</style>\n",
       "<table border=\"1\" class=\"dataframe\">\n",
       "  <thead>\n",
       "    <tr style=\"text-align: right;\">\n",
       "      <th></th>\n",
       "      <th>Student_ID</th>\n",
       "      <th>Name</th>\n",
       "      <th>My_Column</th>\n",
       "      <th>Gender</th>\n",
       "      <th>Age</th>\n",
       "      <th>Department</th>\n",
       "      <th>GPA</th>\n",
       "      <th>Enrollment_Year</th>\n",
       "      <th>Contact</th>\n",
       "      <th>Graduation_Year</th>\n",
       "      <th>Scholarship_Status</th>\n",
       "    </tr>\n",
       "  </thead>\n",
       "  <tbody>\n",
       "    <tr>\n",
       "      <th>0</th>\n",
       "      <td>S1001</td>\n",
       "      <td>Ali</td>\n",
       "      <td>1</td>\n",
       "      <td>Male</td>\n",
       "      <td>18.0</td>\n",
       "      <td>Computer Science</td>\n",
       "      <td>3.0</td>\n",
       "      <td>2020</td>\n",
       "      <td>9.876543e+09</td>\n",
       "      <td>2024</td>\n",
       "      <td>No</td>\n",
       "    </tr>\n",
       "    <tr>\n",
       "      <th>1</th>\n",
       "      <td>S1002</td>\n",
       "      <td>Umar</td>\n",
       "      <td>2</td>\n",
       "      <td>Male</td>\n",
       "      <td>19.0</td>\n",
       "      <td>Business</td>\n",
       "      <td>3.5</td>\n",
       "      <td>2021</td>\n",
       "      <td>9.876543e+09</td>\n",
       "      <td>2025</td>\n",
       "      <td>No</td>\n",
       "    </tr>\n",
       "  </tbody>\n",
       "</table>\n",
       "</div>"
      ],
      "text/plain": [
       "  Student_ID  Name  My_Column Gender   Age        Department  GPA  \\\n",
       "0      S1001   Ali          1   Male  18.0  Computer Science  3.0   \n",
       "1      S1002  Umar          2   Male  19.0          Business  3.5   \n",
       "\n",
       "   Enrollment_Year       Contact  Graduation_Year Scholarship_Status  \n",
       "0             2020  9.876543e+09             2024                 No  \n",
       "1             2021  9.876543e+09             2025                 No  "
      ]
     },
     "execution_count": 20,
     "metadata": {},
     "output_type": "execute_result"
    }
   ],
   "source": [
    "# Inserting between name and gender\n",
    "students.insert(2,column='My_Column',value=np.arange(1,26,1))\n",
    "students.head(2)"
   ]
  },
  {
   "cell_type": "markdown",
   "id": "e4587837-ee71-47b7-8fda-7ad27b0cd3cb",
   "metadata": {},
   "source": [
    "### Deleting Any column."
   ]
  },
  {
   "cell_type": "markdown",
   "id": "f8461c31-8381-4276-964b-d99258b643c6",
   "metadata": {},
   "source": [
    "- .drop(columns,inplace) : columns to be deleted, inplace true means modifies original DataFrame."
   ]
  },
  {
   "cell_type": "code",
   "execution_count": 21,
   "id": "b7eb766d-b5e7-4bad-8817-6275d9149b5d",
   "metadata": {},
   "outputs": [
    {
     "data": {
      "text/html": [
       "<div>\n",
       "<style scoped>\n",
       "    .dataframe tbody tr th:only-of-type {\n",
       "        vertical-align: middle;\n",
       "    }\n",
       "\n",
       "    .dataframe tbody tr th {\n",
       "        vertical-align: top;\n",
       "    }\n",
       "\n",
       "    .dataframe thead th {\n",
       "        text-align: right;\n",
       "    }\n",
       "</style>\n",
       "<table border=\"1\" class=\"dataframe\">\n",
       "  <thead>\n",
       "    <tr style=\"text-align: right;\">\n",
       "      <th></th>\n",
       "      <th>Student_ID</th>\n",
       "      <th>Name</th>\n",
       "      <th>My_Column</th>\n",
       "      <th>Gender</th>\n",
       "      <th>Age</th>\n",
       "      <th>Department</th>\n",
       "      <th>GPA</th>\n",
       "      <th>Enrollment_Year</th>\n",
       "      <th>Contact</th>\n",
       "      <th>Graduation_Year</th>\n",
       "      <th>Scholarship_Status</th>\n",
       "    </tr>\n",
       "  </thead>\n",
       "  <tbody>\n",
       "    <tr>\n",
       "      <th>0</th>\n",
       "      <td>S1001</td>\n",
       "      <td>Ali</td>\n",
       "      <td>1</td>\n",
       "      <td>Male</td>\n",
       "      <td>18.0</td>\n",
       "      <td>Computer Science</td>\n",
       "      <td>3.0</td>\n",
       "      <td>2020</td>\n",
       "      <td>9.876543e+09</td>\n",
       "      <td>2024</td>\n",
       "      <td>No</td>\n",
       "    </tr>\n",
       "    <tr>\n",
       "      <th>1</th>\n",
       "      <td>S1002</td>\n",
       "      <td>Umar</td>\n",
       "      <td>2</td>\n",
       "      <td>Male</td>\n",
       "      <td>19.0</td>\n",
       "      <td>Business</td>\n",
       "      <td>3.5</td>\n",
       "      <td>2021</td>\n",
       "      <td>9.876543e+09</td>\n",
       "      <td>2025</td>\n",
       "      <td>No</td>\n",
       "    </tr>\n",
       "  </tbody>\n",
       "</table>\n",
       "</div>"
      ],
      "text/plain": [
       "  Student_ID  Name  My_Column Gender   Age        Department  GPA  \\\n",
       "0      S1001   Ali          1   Male  18.0  Computer Science  3.0   \n",
       "1      S1002  Umar          2   Male  19.0          Business  3.5   \n",
       "\n",
       "   Enrollment_Year       Contact  Graduation_Year Scholarship_Status  \n",
       "0             2020  9.876543e+09             2024                 No  \n",
       "1             2021  9.876543e+09             2025                 No  "
      ]
     },
     "execution_count": 21,
     "metadata": {},
     "output_type": "execute_result"
    }
   ],
   "source": [
    "students.drop(columns = ['My_Column'],inplace=False) # By default inplace is False\n",
    "students.head(2)"
   ]
  },
  {
   "cell_type": "code",
   "execution_count": 22,
   "id": "6d7c47b3-7604-4e59-9e95-e457751f45f2",
   "metadata": {},
   "outputs": [
    {
     "data": {
      "text/html": [
       "<div>\n",
       "<style scoped>\n",
       "    .dataframe tbody tr th:only-of-type {\n",
       "        vertical-align: middle;\n",
       "    }\n",
       "\n",
       "    .dataframe tbody tr th {\n",
       "        vertical-align: top;\n",
       "    }\n",
       "\n",
       "    .dataframe thead th {\n",
       "        text-align: right;\n",
       "    }\n",
       "</style>\n",
       "<table border=\"1\" class=\"dataframe\">\n",
       "  <thead>\n",
       "    <tr style=\"text-align: right;\">\n",
       "      <th></th>\n",
       "      <th>Student_ID</th>\n",
       "      <th>Name</th>\n",
       "      <th>Gender</th>\n",
       "      <th>Age</th>\n",
       "      <th>Department</th>\n",
       "      <th>GPA</th>\n",
       "      <th>Enrollment_Year</th>\n",
       "      <th>Contact</th>\n",
       "      <th>Graduation_Year</th>\n",
       "      <th>Scholarship_Status</th>\n",
       "    </tr>\n",
       "  </thead>\n",
       "  <tbody>\n",
       "    <tr>\n",
       "      <th>0</th>\n",
       "      <td>S1001</td>\n",
       "      <td>Ali</td>\n",
       "      <td>Male</td>\n",
       "      <td>18.0</td>\n",
       "      <td>Computer Science</td>\n",
       "      <td>3.0</td>\n",
       "      <td>2020</td>\n",
       "      <td>9.876543e+09</td>\n",
       "      <td>2024</td>\n",
       "      <td>No</td>\n",
       "    </tr>\n",
       "    <tr>\n",
       "      <th>1</th>\n",
       "      <td>S1002</td>\n",
       "      <td>Umar</td>\n",
       "      <td>Male</td>\n",
       "      <td>19.0</td>\n",
       "      <td>Business</td>\n",
       "      <td>3.5</td>\n",
       "      <td>2021</td>\n",
       "      <td>9.876543e+09</td>\n",
       "      <td>2025</td>\n",
       "      <td>No</td>\n",
       "    </tr>\n",
       "    <tr>\n",
       "      <th>2</th>\n",
       "      <td>S1003</td>\n",
       "      <td>Faraz</td>\n",
       "      <td>Male</td>\n",
       "      <td>20.0</td>\n",
       "      <td>Mathematics</td>\n",
       "      <td>NaN</td>\n",
       "      <td>2022</td>\n",
       "      <td>9.876543e+09</td>\n",
       "      <td>2026</td>\n",
       "      <td>No</td>\n",
       "    </tr>\n",
       "    <tr>\n",
       "      <th>3</th>\n",
       "      <td>S1004</td>\n",
       "      <td>Danish</td>\n",
       "      <td>Male</td>\n",
       "      <td>21.0</td>\n",
       "      <td>Physics</td>\n",
       "      <td>2.5</td>\n",
       "      <td>2023</td>\n",
       "      <td>NaN</td>\n",
       "      <td>2027</td>\n",
       "      <td>No</td>\n",
       "    </tr>\n",
       "  </tbody>\n",
       "</table>\n",
       "</div>"
      ],
      "text/plain": [
       "  Student_ID    Name Gender   Age        Department  GPA  Enrollment_Year  \\\n",
       "0      S1001     Ali   Male  18.0  Computer Science  3.0             2020   \n",
       "1      S1002    Umar   Male  19.0          Business  3.5             2021   \n",
       "2      S1003   Faraz   Male  20.0       Mathematics  NaN             2022   \n",
       "3      S1004  Danish   Male  21.0           Physics  2.5             2023   \n",
       "\n",
       "        Contact  Graduation_Year Scholarship_Status  \n",
       "0  9.876543e+09             2024                 No  \n",
       "1  9.876543e+09             2025                 No  \n",
       "2  9.876543e+09             2026                 No  \n",
       "3           NaN             2027                 No  "
      ]
     },
     "execution_count": 22,
     "metadata": {},
     "output_type": "execute_result"
    }
   ],
   "source": [
    "students.drop(columns = ['My_Column'],inplace=True) # By default inplace is False\n",
    "students.head(4)"
   ]
  },
  {
   "cell_type": "markdown",
   "id": "8948b29d-dec9-489d-9a78-11ae6645f5ef",
   "metadata": {},
   "source": [
    "### Modifying Data"
   ]
  },
  {
   "cell_type": "markdown",
   "id": "0a6f2583-93f0-44e3-b3aa-77f9c73a52da",
   "metadata": {},
   "source": [
    "- i want to Modify Age of Faraz."
   ]
  },
  {
   "cell_type": "markdown",
   "id": "4b1f3b41-f932-4df7-8fb8-63f0879fdcfa",
   "metadata": {},
   "source": [
    "- .at[ row_label , column_label ]"
   ]
  },
  {
   "cell_type": "code",
   "execution_count": 23,
   "id": "58d513f3-6571-4f68-9de2-b34b1d71dae2",
   "metadata": {},
   "outputs": [
    {
     "data": {
      "text/html": [
       "<div>\n",
       "<style scoped>\n",
       "    .dataframe tbody tr th:only-of-type {\n",
       "        vertical-align: middle;\n",
       "    }\n",
       "\n",
       "    .dataframe tbody tr th {\n",
       "        vertical-align: top;\n",
       "    }\n",
       "\n",
       "    .dataframe thead th {\n",
       "        text-align: right;\n",
       "    }\n",
       "</style>\n",
       "<table border=\"1\" class=\"dataframe\">\n",
       "  <thead>\n",
       "    <tr style=\"text-align: right;\">\n",
       "      <th></th>\n",
       "      <th>Student_ID</th>\n",
       "      <th>Name</th>\n",
       "      <th>Gender</th>\n",
       "      <th>Age</th>\n",
       "      <th>Department</th>\n",
       "      <th>GPA</th>\n",
       "      <th>Enrollment_Year</th>\n",
       "      <th>Contact</th>\n",
       "      <th>Graduation_Year</th>\n",
       "      <th>Scholarship_Status</th>\n",
       "    </tr>\n",
       "  </thead>\n",
       "  <tbody>\n",
       "    <tr>\n",
       "      <th>0</th>\n",
       "      <td>S1001</td>\n",
       "      <td>Ali</td>\n",
       "      <td>Male</td>\n",
       "      <td>18.0</td>\n",
       "      <td>Computer Science</td>\n",
       "      <td>3.0</td>\n",
       "      <td>2020</td>\n",
       "      <td>9.876543e+09</td>\n",
       "      <td>2024</td>\n",
       "      <td>No</td>\n",
       "    </tr>\n",
       "    <tr>\n",
       "      <th>1</th>\n",
       "      <td>S1002</td>\n",
       "      <td>Umar</td>\n",
       "      <td>Male</td>\n",
       "      <td>19.0</td>\n",
       "      <td>Business</td>\n",
       "      <td>3.5</td>\n",
       "      <td>2021</td>\n",
       "      <td>9.876543e+09</td>\n",
       "      <td>2025</td>\n",
       "      <td>No</td>\n",
       "    </tr>\n",
       "    <tr>\n",
       "      <th>2</th>\n",
       "      <td>S1003</td>\n",
       "      <td>Faraz</td>\n",
       "      <td>Male</td>\n",
       "      <td>19.0</td>\n",
       "      <td>Mathematics</td>\n",
       "      <td>NaN</td>\n",
       "      <td>2022</td>\n",
       "      <td>9.876543e+09</td>\n",
       "      <td>2026</td>\n",
       "      <td>No</td>\n",
       "    </tr>\n",
       "    <tr>\n",
       "      <th>3</th>\n",
       "      <td>S1004</td>\n",
       "      <td>Danish</td>\n",
       "      <td>Male</td>\n",
       "      <td>21.0</td>\n",
       "      <td>Physics</td>\n",
       "      <td>2.5</td>\n",
       "      <td>2023</td>\n",
       "      <td>NaN</td>\n",
       "      <td>2027</td>\n",
       "      <td>No</td>\n",
       "    </tr>\n",
       "  </tbody>\n",
       "</table>\n",
       "</div>"
      ],
      "text/plain": [
       "  Student_ID    Name Gender   Age        Department  GPA  Enrollment_Year  \\\n",
       "0      S1001     Ali   Male  18.0  Computer Science  3.0             2020   \n",
       "1      S1002    Umar   Male  19.0          Business  3.5             2021   \n",
       "2      S1003   Faraz   Male  19.0       Mathematics  NaN             2022   \n",
       "3      S1004  Danish   Male  21.0           Physics  2.5             2023   \n",
       "\n",
       "        Contact  Graduation_Year Scholarship_Status  \n",
       "0  9.876543e+09             2024                 No  \n",
       "1  9.876543e+09             2025                 No  \n",
       "2  9.876543e+09             2026                 No  \n",
       "3           NaN             2027                 No  "
      ]
     },
     "execution_count": 23,
     "metadata": {},
     "output_type": "execute_result"
    }
   ],
   "source": [
    "students.at[2,'Age'] = 19 \n",
    "students.head(4)"
   ]
  },
  {
   "cell_type": "code",
   "execution_count": 24,
   "id": "1233fdfb-4b35-47ce-937a-ada33785c972",
   "metadata": {},
   "outputs": [
    {
     "data": {
      "text/html": [
       "<div>\n",
       "<style scoped>\n",
       "    .dataframe tbody tr th:only-of-type {\n",
       "        vertical-align: middle;\n",
       "    }\n",
       "\n",
       "    .dataframe tbody tr th {\n",
       "        vertical-align: top;\n",
       "    }\n",
       "\n",
       "    .dataframe thead th {\n",
       "        text-align: right;\n",
       "    }\n",
       "</style>\n",
       "<table border=\"1\" class=\"dataframe\">\n",
       "  <thead>\n",
       "    <tr style=\"text-align: right;\">\n",
       "      <th></th>\n",
       "      <th>Student_ID</th>\n",
       "      <th>Name</th>\n",
       "      <th>Gender</th>\n",
       "      <th>Age</th>\n",
       "      <th>Department</th>\n",
       "      <th>GPA</th>\n",
       "      <th>Enrollment_Year</th>\n",
       "      <th>Contact</th>\n",
       "      <th>Graduation_Year</th>\n",
       "      <th>Scholarship_Status</th>\n",
       "    </tr>\n",
       "  </thead>\n",
       "  <tbody>\n",
       "    <tr>\n",
       "      <th>0</th>\n",
       "      <td>S1001</td>\n",
       "      <td>Ali</td>\n",
       "      <td>Male</td>\n",
       "      <td>18.0</td>\n",
       "      <td>Computer Science</td>\n",
       "      <td>3.0</td>\n",
       "      <td>2020</td>\n",
       "      <td>9.876543e+09</td>\n",
       "      <td>2024</td>\n",
       "      <td>No</td>\n",
       "    </tr>\n",
       "    <tr>\n",
       "      <th>1</th>\n",
       "      <td>S1002</td>\n",
       "      <td>Umar</td>\n",
       "      <td>Male</td>\n",
       "      <td>19.0</td>\n",
       "      <td>Business</td>\n",
       "      <td>3.5</td>\n",
       "      <td>2021</td>\n",
       "      <td>9.876543e+09</td>\n",
       "      <td>2025</td>\n",
       "      <td>No</td>\n",
       "    </tr>\n",
       "    <tr>\n",
       "      <th>2</th>\n",
       "      <td>S1003</td>\n",
       "      <td>Humam</td>\n",
       "      <td>Male</td>\n",
       "      <td>19.0</td>\n",
       "      <td>Mathematics</td>\n",
       "      <td>NaN</td>\n",
       "      <td>2022</td>\n",
       "      <td>9.876543e+09</td>\n",
       "      <td>2026</td>\n",
       "      <td>No</td>\n",
       "    </tr>\n",
       "  </tbody>\n",
       "</table>\n",
       "</div>"
      ],
      "text/plain": [
       "  Student_ID   Name Gender   Age        Department  GPA  Enrollment_Year  \\\n",
       "0      S1001    Ali   Male  18.0  Computer Science  3.0             2020   \n",
       "1      S1002   Umar   Male  19.0          Business  3.5             2021   \n",
       "2      S1003  Humam   Male  19.0       Mathematics  NaN             2022   \n",
       "\n",
       "        Contact  Graduation_Year Scholarship_Status  \n",
       "0  9.876543e+09             2024                 No  \n",
       "1  9.876543e+09             2025                 No  \n",
       "2  9.876543e+09             2026                 No  "
      ]
     },
     "execution_count": 24,
     "metadata": {},
     "output_type": "execute_result"
    }
   ],
   "source": [
    "students.loc[2,'Name'] = 'Humam'\n",
    "students.head(3)"
   ]
  },
  {
   "cell_type": "markdown",
   "id": "699d7ab2-aecc-4544-80c0-78c1860d0f3f",
   "metadata": {},
   "source": [
    "## Conclusion 🎯\n",
    "In this notebook, we covered fundamentals of Pandas, including:\n",
    "- Installation\n",
    "- Creating DataFrames\n",
    "- Exploring data with key functions (info(), head(), tail(), describe())\n",
    "- Modifying data.\n",
    "<br>These concepts lay the foundation for efficient data manipulation in Pandas.\n",
    "Next, we'll dive deeper into accessing, slicing, filtering, and handling missing data. Keep practicing and experimenting with different datasets! 💡"
   ]
  },
  {
   "cell_type": "code",
   "execution_count": null,
   "id": "4405f956-97fc-4c70-85cd-3f4f0d3cff2b",
   "metadata": {},
   "outputs": [],
   "source": []
  }
 ],
 "metadata": {
  "kernelspec": {
   "display_name": "Python 3 (ipykernel)",
   "language": "python",
   "name": "python3"
  },
  "language_info": {
   "codemirror_mode": {
    "name": "ipython",
    "version": 3
   },
   "file_extension": ".py",
   "mimetype": "text/x-python",
   "name": "python",
   "nbconvert_exporter": "python",
   "pygments_lexer": "ipython3",
   "version": "3.13.2"
  }
 },
 "nbformat": 4,
 "nbformat_minor": 5
}
